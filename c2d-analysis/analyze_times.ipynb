{
 "cells": [
  {
   "cell_type": "code",
   "execution_count": 9,
   "id": "38be476e",
   "metadata": {},
   "outputs": [
    {
     "name": "stdout",
     "output_type": "stream",
     "text": [
      "The autoreload extension is already loaded. To reload it, use:\n",
      "  %reload_ext autoreload\n"
     ]
    }
   ],
   "source": [
    "%load_ext autoreload\n",
    "%autoreload 2"
   ]
  },
  {
   "cell_type": "code",
   "execution_count": 10,
   "id": "40e6793a",
   "metadata": {},
   "outputs": [],
   "source": [
    "import sys\n",
    "sys.path.append(\"../perf-module\")"
   ]
  },
  {
   "cell_type": "code",
   "execution_count": 11,
   "id": "df445b38",
   "metadata": {},
   "outputs": [],
   "source": [
    "from PerfParser import PerfParser, StatMode, Compiler\n",
    "from Preprocessor import Preprocessor\n",
    "from FunctionMap import FunctionMap"
   ]
  },
  {
   "cell_type": "code",
   "execution_count": 12,
   "id": "2b87e03b",
   "metadata": {},
   "outputs": [],
   "source": [
    "perf_dir = \"perf-report/\"\n",
    "stdout_dir = \"stdout/valid/\"\n",
    "category_to_file_path = \"tags/category_to_file.json\"\n",
    "tags_path = \"tags/tags.json\""
   ]
  },
  {
   "cell_type": "code",
   "execution_count": 13,
   "id": "3172ecae",
   "metadata": {},
   "outputs": [],
   "source": [
    "preprocessor = Preprocessor(stdout_dir=\"stdout/\")\n",
    "preprocessor.filter_stdout()"
   ]
  },
  {
   "cell_type": "code",
   "execution_count": 14,
   "id": "ba048dcb",
   "metadata": {},
   "outputs": [
    {
     "name": "stderr",
     "output_type": "stream",
     "text": [
      "Initializing CNF Stats...:   0%|          | 0/565 [00:00<?, ?it/s]"
     ]
    },
    {
     "name": "stderr",
     "output_type": "stream",
     "text": [
      "Initializing CNF Stats...: 100%|██████████| 565/565 [00:07<00:00, 78.05it/s]"
     ]
    },
    {
     "name": "stdout",
     "output_type": "stream",
     "text": [
      "Aggregating Stats for all CNFs...\n",
      "Total time: 746361.7\n",
      "Aggregating Stats for timed out CNFs...\n",
      "Total time: 666000\n",
      "Aggregating Stats for completed CNFs...\n",
      "Total time: 80361.7\n",
      "Aggregating Stats by Category for all CNFs...\n",
      "Aggregating Stats by Category for timed out CNFs...\n",
      "Aggregating Stats by Category for completed CNFs...\n"
     ]
    },
    {
     "name": "stderr",
     "output_type": "stream",
     "text": [
      "\n"
     ]
    }
   ],
   "source": [
    "function_map = FunctionMap(category_to_file_path=category_to_file_path, tags_path=tags_path)\n",
    "perf_parser = PerfParser(\n",
    "    compiler=Compiler.C2D,\n",
    "    function_map=function_map,\n",
    "    perf_dir=perf_dir,\n",
    "    stdout_dir=stdout_dir,\n",
    "    normalize=False\n",
    ")"
   ]
  },
  {
   "cell_type": "code",
   "execution_count": 15,
   "id": "f023b2fc",
   "metadata": {},
   "outputs": [],
   "source": [
    "json_out = \"stats/cnf_stats.json\"\n",
    "agg_json_out = \"stats/unnorm_agg_cnf_stats.json\"\n",
    "cat_json_out = \"stats/unnorm_category_stats.json\"\n",
    "\n",
    "# timed out\n",
    "timed_out_json_out = \"stats/timed_out/cnf_stats.json\"\n",
    "timed_out_agg_json_out = \"stats/timed_out/unnorm_agg_stats.json\" \n",
    "timed_out_cat_json_out = \"stats/timed_out/unnorm_category_stats.json\"\n",
    "\n",
    "# complete\n",
    "completed_json_out = \"stats/completed/cnf_stats.json\"\n",
    "completed_agg_json_out = \"stats/completed/unnorm_agg_stats.json\"\n",
    "completed_cat_json_out = \"stats/completed/unnorm_category_stats.json\"\n",
    "\n",
    "perf_parser.to_json(json_out, StatMode.CNF_STATS)\n",
    "perf_parser.to_json(agg_json_out, StatMode.AGGREGATE_STATS)\n",
    "perf_parser.to_json(cat_json_out, StatMode.CATEGORY_STATS)\n",
    "\n",
    "# timed out\n",
    "perf_parser.to_json(timed_out_json_out, StatMode.TIMED_OUT_STATS)\n",
    "perf_parser.to_json(timed_out_agg_json_out, StatMode.AGGREGATE_TIMED_OUT_STATS)\n",
    "perf_parser.to_json(timed_out_cat_json_out, StatMode.CATEGORY_TIMED_OUT_STATS)\n",
    "\n",
    "# completed\n",
    "perf_parser.to_json(completed_json_out, StatMode.COMPLETED_STATS)\n",
    "perf_parser.to_json(completed_agg_json_out, StatMode.AGGREGATE_COMPLETED_STATS)\n",
    "perf_parser.to_json(completed_cat_json_out, StatMode.CATEGORY_COMPLETED_STATS)"
   ]
  },
  {
   "cell_type": "code",
   "execution_count": 16,
   "id": "a467b663",
   "metadata": {},
   "outputs": [],
   "source": [
    "from PerfTableGenerator import PerfTableGenerator\n",
    "\n",
    "table_generator = PerfTableGenerator(\n",
    "    agg_stats_path=agg_json_out,\n",
    "    category_stats_path=cat_json_out\n",
    ")"
   ]
  },
  {
   "cell_type": "code",
   "execution_count": 19,
   "id": "3a39cd07",
   "metadata": {},
   "outputs": [
    {
     "name": "stdout",
     "output_type": "stream",
     "text": [
      "\\begin{tabular}{llll}\n",
      "\\toprule\n",
      "Function Name & Category & Total Time & Percent Time \\\\\n",
      "\\midrule\n",
      "remove\\_watched\\_clause & sat & 202194.57 & 27.09 \\\\\n",
      "set\\_literal & sat & 145049.25 & 19.43 \\\\\n",
      "update\\_relevance\\_bit & cache & 57403.10 & 7.69 \\\\\n",
      "subsumed\\_dtree & dtree & 35408.40 & 4.74 \\\\\n",
      "add\\_watched\\_clause & sat & 32456.41 & 4.35 \\\\\n",
      "same\\_and\\_nodes & nnf & 31164.65 & 4.18 \\\\\n",
      "pack\\_var\\_2bits & cache & 29874.76 & 4.00 \\\\\n",
      "update\\_subsumption & sat & 25310.83 & 3.39 \\\\\n",
      "eliminated & compile & 23427.83 & 3.14 \\\\\n",
      "erase\\_level & sat & 20685.18 & 2.77 \\\\\n",
      "update\\_separator\\_score & compile & 14713.47 & 1.97 \\\\\n",
      "same\\_or\\_nodes & nnf & 10203.06 & 1.37 \\\\\n",
      "apply\\_to\\_vars & cache & 9809.86 & 1.31 \\\\\n",
      "lookup\\_cnf\\_cache & cache & 9206.92 & 1.23 \\\\\n",
      "get\\_and\\_node & nnf & 7409.17 & 0.99 \\\\\n",
      "push\\_items\\_to\\_end & compile & 5640.41 & 0.76 \\\\\n",
      "nnf\\_node\\_cmp & nnf & 5160.44 & 0.69 \\\\\n",
      "subs\\_cls & compile & 5039.05 & 0.68 \\\\\n",
      "move\\_watched\\_literal & sat & 4904.97 & 0.66 \\\\\n",
      "compile\\_decomposed & compile & 3751.78 & 0.50 \\\\\n",
      "conjoin\\_relevant\\_lits & nnf & 2760.27 & 0.37 \\\\\n",
      "conjoin\\_nnfs\\_lits & nnf & 2662.84 & 0.36 \\\\\n",
      "java\\_hash\\_code & cache & 2352.01 & 0.32 \\\\\n",
      "clear\\_implied\\_literal\\_marks & sat & 2298.86 & 0.31 \\\\\n",
      "leaf\\_dtree & dtree & 2197.22 & 0.29 \\\\\n",
      "get\\_or\\_node & nnf & 2159.64 & 0.29 \\\\\n",
      "lookup\\_or\\_compile\\_dt & compile & 1997.03 & 0.27 \\\\\n",
      "literal2nnf\\_node & nnf & 1811.68 & 0.24 \\\\\n",
      "weakly\\_eliminated & compile & 1616.07 & 0.22 \\\\\n",
      "pop\\_var\\_relevance & cache & 1564.93 & 0.21 \\\\\n",
      "mark\\_vars\\_at\\_level & sat & 1395.56 & 0.19 \\\\\n",
      "pop\\_vars\\_scope & cache & 1175.61 & 0.16 \\\\\n",
      "push\\_vars\\_scope & cache & 953.34 & 0.13 \\\\\n",
      "compile\\_dt & compile & 899.21 & 0.12 \\\\\n",
      "active\\_separator\\_count & compile & 898.99 & 0.12 \\\\\n",
      "and\\_hashcode & nnf & 863.78 & 0.12 \\\\\n",
      "stamp\\_cache & cache & 847.18 & 0.11 \\\\\n",
      "set\\_and\\_node\\_children & nnf & 554.09 & 0.07 \\\\\n",
      "allocate\\_nnf\\_node & nnf & 521.40 & 0.07 \\\\\n",
      "unstamp\\_cache & cache & 519.71 & 0.07 \\\\\n",
      "hash\\_code & cache & 492.23 & 0.07 \\\\\n",
      "undo\\_decide\\_literal & sat & 455.70 & 0.06 \\\\\n",
      "decide\\_literal & sat & 437.95 & 0.06 \\\\\n",
      "new\\_and\\_node & nnf & 399.78 & 0.05 \\\\\n",
      "in\\_dtree\\_scope & cache & 272.28 & 0.04 \\\\\n",
      "find\\_max & compile & 269.21 & 0.04 \\\\\n",
      "score1 & compile & 268.90 & 0.04 \\\\\n",
      "get\\_cnf\\_key & cache & 255.66 & 0.03 \\\\\n",
      "add\\_cache\\_entry & cache & 249.10 & 0.03 \\\\\n",
      "delete\\_cache\\_entry & cache & 210.03 & 0.03 \\\\\n",
      "zchaff\\_conflict\\_clause & sat & 199.32 & 0.03 \\\\\n",
      "new\\_or\\_node & nnf & 188.93 & 0.03 \\\\\n",
      "sort\\_nnf\\_node & nnf & 175.70 & 0.02 \\\\\n",
      "select\\_phases & compile & 172.50 & 0.02 \\\\\n",
      "complimentary\\_nnf\\_nodes & nnf & 167.70 & 0.02 \\\\\n",
      "free\\_cache\\_manager & cache & 163.95 & 0.02 \\\\\n",
      "push\\_var\\_relevance & cache & 144.67 & 0.02 \\\\\n",
      "disjoin\\_nnfs\\_i & nnf & 113.43 & 0.02 \\\\\n",
      "select\\_separator & compile & 106.09 & 0.01 \\\\\n",
      "or\\_hashcode & nnf & 97.63 & 0.01 \\\\\n",
      "construct\\_conflict\\_report & sat & 94.99 & 0.01 \\\\\n",
      "disjoin\\_nnfs & nnf & 94.90 & 0.01 \\\\\n",
      "insert\\_cnf\\_cache & cache & 78.84 & 0.01 \\\\\n",
      "clause2nnf\\_node & nnf & 78.16 & 0.01 \\\\\n",
      "drop\\_cache\\_entries & cache & 73.49 & 0.01 \\\\\n",
      "\\bottomrule\n",
      "\\end{tabular}\n",
      "\n"
     ]
    }
   ],
   "source": [
    "function_table = table_generator.generate_function_table_latex()\n",
    "print(function_table)"
   ]
  },
  {
   "cell_type": "code",
   "execution_count": 20,
   "id": "264e900f",
   "metadata": {},
   "outputs": [
    {
     "name": "stdout",
     "output_type": "stream",
     "text": [
      "\\begin{tabular}{lll}\n",
      "\\toprule\n",
      "Category & Total Time & Percent Time \\\\\n",
      "\\midrule\n",
      "sat & 435658.53 & 60.97 \\\\\n",
      "cache & 115699.42 & 16.19 \\\\\n",
      "nnf & 66641.24 & 9.33 \\\\\n",
      "compile & 58853.95 & 8.24 \\\\\n",
      "dtree & 37615.68 & 5.26 \\\\\n",
      "\\bottomrule\n",
      "\\end{tabular}\n",
      "\n"
     ]
    }
   ],
   "source": [
    "category_table = table_generator.generate_category_table_latex()\n",
    "print(category_table)"
   ]
  },
  {
   "cell_type": "code",
   "execution_count": 21,
   "id": "656d1002",
   "metadata": {},
   "outputs": [],
   "source": [
    "timed_out_table_generator = PerfTableGenerator(\n",
    "    agg_stats_path=timed_out_agg_json_out,\n",
    "    category_stats_path=timed_out_cat_json_out\n",
    ")"
   ]
  },
  {
   "cell_type": "code",
   "execution_count": 22,
   "id": "1989427a",
   "metadata": {},
   "outputs": [
    {
     "name": "stdout",
     "output_type": "stream",
     "text": [
      "\\begin{tabular}{llll}\n",
      "\\toprule\n",
      "Function Name & Category & Total Time & Percent Time \\\\\n",
      "\\midrule\n",
      "remove\\_watched\\_clause & sat & 189743.04 & 28.49 \\\\\n",
      "set\\_literal & sat & 134053.20 & 20.13 \\\\\n",
      "update\\_relevance\\_bit & cache & 48901.32 & 7.34 \\\\\n",
      "subsumed\\_dtree & dtree & 31013.28 & 4.66 \\\\\n",
      "add\\_watched\\_clause & sat & 30278.88 & 4.55 \\\\\n",
      "same\\_and\\_nodes & nnf & 26060.76 & 3.91 \\\\\n",
      "pack\\_var\\_2bits & cache & 25732.44 & 3.86 \\\\\n",
      "update\\_subsumption & sat & 21814.56 & 3.28 \\\\\n",
      "eliminated & compile & 20765.16 & 3.12 \\\\\n",
      "erase\\_level & sat & 17318.88 & 2.60 \\\\\n",
      "update\\_separator\\_score & compile & 12819.24 & 1.92 \\\\\n",
      "same\\_or\\_nodes & nnf & 8593.92 & 1.29 \\\\\n",
      "apply\\_to\\_vars & cache & 8363.88 & 1.26 \\\\\n",
      "lookup\\_cnf\\_cache & cache & 6868.08 & 1.03 \\\\\n",
      "get\\_and\\_node & nnf & 5688.36 & 0.85 \\\\\n",
      "push\\_items\\_to\\_end & compile & 4738.32 & 0.71 \\\\\n",
      "move\\_watched\\_literal & sat & 4543.20 & 0.68 \\\\\n",
      "subs\\_cls & compile & 4120.56 & 0.62 \\\\\n",
      "nnf\\_node\\_cmp & nnf & 3981.24 & 0.60 \\\\\n",
      "compile\\_decomposed & compile & 3129.12 & 0.47 \\\\\n",
      "conjoin\\_nnfs\\_lits & nnf & 2147.04 & 0.32 \\\\\n",
      "conjoin\\_relevant\\_lits & nnf & 2131.56 & 0.32 \\\\\n",
      "java\\_hash\\_code & cache & 2014.20 & 0.30 \\\\\n",
      "clear\\_implied\\_literal\\_marks & sat & 1949.76 & 0.29 \\\\\n",
      "leaf\\_dtree & dtree & 1837.80 & 0.28 \\\\\n",
      "get\\_or\\_node & nnf & 1668.60 & 0.25 \\\\\n",
      "lookup\\_or\\_compile\\_dt & compile & 1656.72 & 0.25 \\\\\n",
      "literal2nnf\\_node & nnf & 1424.88 & 0.21 \\\\\n",
      "mark\\_vars\\_at\\_level & sat & 1312.92 & 0.20 \\\\\n",
      "weakly\\_eliminated & compile & 1268.28 & 0.19 \\\\\n",
      "pop\\_var\\_relevance & cache & 1214.28 & 0.18 \\\\\n",
      "pop\\_vars\\_scope & cache & 1044.72 & 0.16 \\\\\n",
      "push\\_vars\\_scope & cache & 851.40 & 0.13 \\\\\n",
      "active\\_separator\\_count & compile & 731.52 & 0.11 \\\\\n",
      "compile\\_dt & compile & 713.52 & 0.11 \\\\\n",
      "stamp\\_cache & cache & 698.40 & 0.10 \\\\\n",
      "and\\_hashcode & nnf & 651.24 & 0.10 \\\\\n",
      "unstamp\\_cache & cache & 428.76 & 0.06 \\\\\n",
      "set\\_and\\_node\\_children & nnf & 416.88 & 0.06 \\\\\n",
      "allocate\\_nnf\\_node & nnf & 393.48 & 0.06 \\\\\n",
      "hash\\_code & cache & 366.12 & 0.05 \\\\\n",
      "undo\\_decide\\_literal & sat & 344.88 & 0.05 \\\\\n",
      "decide\\_literal & sat & 341.64 & 0.05 \\\\\n",
      "new\\_and\\_node & nnf & 293.76 & 0.04 \\\\\n",
      "score1 & compile & 215.64 & 0.03 \\\\\n",
      "find\\_max & compile & 214.20 & 0.03 \\\\\n",
      "in\\_dtree\\_scope & cache & 205.92 & 0.03 \\\\\n",
      "add\\_cache\\_entry & cache & 198.36 & 0.03 \\\\\n",
      "get\\_cnf\\_key & cache & 193.32 & 0.03 \\\\\n",
      "zchaff\\_conflict\\_clause & sat & 185.76 & 0.03 \\\\\n",
      "delete\\_cache\\_entry & cache & 171.36 & 0.03 \\\\\n",
      "new\\_or\\_node & nnf & 138.96 & 0.02 \\\\\n",
      "sort\\_nnf\\_node & nnf & 133.20 & 0.02 \\\\\n",
      "complimentary\\_nnf\\_nodes & nnf & 132.48 & 0.02 \\\\\n",
      "select\\_phases & compile & 131.40 & 0.02 \\\\\n",
      "push\\_var\\_relevance & cache & 111.24 & 0.02 \\\\\n",
      "disjoin\\_nnfs\\_i & nnf & 89.64 & 0.01 \\\\\n",
      "construct\\_conflict\\_report & sat & 88.56 & 0.01 \\\\\n",
      "select\\_separator & compile & 82.80 & 0.01 \\\\\n",
      "or\\_hashcode & nnf & 74.16 & 0.01 \\\\\n",
      "disjoin\\_nnfs & nnf & 73.08 & 0.01 \\\\\n",
      "\\bottomrule\n",
      "\\end{tabular}\n",
      "\n"
     ]
    }
   ],
   "source": [
    "timed_out_function_table = timed_out_table_generator.generate_function_table_latex()\n",
    "print(timed_out_function_table)"
   ]
  },
  {
   "cell_type": "code",
   "execution_count": 23,
   "id": "c82290b2",
   "metadata": {},
   "outputs": [
    {
     "name": "stdout",
     "output_type": "stream",
     "text": [
      "\\begin{tabular}{lll}\n",
      "\\toprule\n",
      "Category & Total Time & Percent Time \\\\\n",
      "\\midrule\n",
      "sat & 402135.48 & 63.10 \\\\\n",
      "cache & 97524.72 & 15.30 \\\\\n",
      "nnf & 54186.48 & 8.50 \\\\\n",
      "compile & 50628.24 & 7.94 \\\\\n",
      "dtree & 32854.32 & 5.15 \\\\\n",
      "\\bottomrule\n",
      "\\end{tabular}\n",
      "\n"
     ]
    }
   ],
   "source": [
    "timed_out_category_table = timed_out_table_generator.generate_category_table_latex()\n",
    "print(timed_out_category_table)"
   ]
  },
  {
   "cell_type": "code",
   "execution_count": 24,
   "id": "434057be",
   "metadata": {},
   "outputs": [],
   "source": [
    "completed_table_generator = PerfTableGenerator(\n",
    "    agg_stats_path=completed_agg_json_out,\n",
    "    category_stats_path=completed_cat_json_out\n",
    ")"
   ]
  },
  {
   "cell_type": "code",
   "execution_count": 25,
   "id": "c1aeca3f",
   "metadata": {},
   "outputs": [
    {
     "name": "stdout",
     "output_type": "stream",
     "text": [
      "\\begin{tabular}{llll}\n",
      "\\toprule\n",
      "Function Name & Category & Total Time & Percent Time \\\\\n",
      "\\midrule\n",
      "remove\\_watched\\_clause & sat & 12451.53 & 15.49 \\\\\n",
      "set\\_literal & sat & 10996.05 & 13.68 \\\\\n",
      "update\\_relevance\\_bit & cache & 8501.78 & 10.58 \\\\\n",
      "same\\_and\\_nodes & nnf & 5103.89 & 6.35 \\\\\n",
      "subsumed\\_dtree & dtree & 4395.12 & 5.47 \\\\\n",
      "pack\\_var\\_2bits & cache & 4142.32 & 5.15 \\\\\n",
      "update\\_subsumption & sat & 3496.27 & 4.35 \\\\\n",
      "erase\\_level & sat & 3366.30 & 4.19 \\\\\n",
      "eliminated & compile & 2662.67 & 3.31 \\\\\n",
      "lookup\\_cnf\\_cache & cache & 2338.84 & 2.91 \\\\\n",
      "add\\_watched\\_clause & sat & 2177.53 & 2.71 \\\\\n",
      "update\\_separator\\_score & compile & 1894.23 & 2.36 \\\\\n",
      "get\\_and\\_node & nnf & 1720.81 & 2.14 \\\\\n",
      "same\\_or\\_nodes & nnf & 1609.14 & 2.00 \\\\\n",
      "apply\\_to\\_vars & cache & 1445.98 & 1.80 \\\\\n",
      "nnf\\_node\\_cmp & nnf & 1179.20 & 1.47 \\\\\n",
      "subs\\_cls & compile & 918.49 & 1.14 \\\\\n",
      "push\\_items\\_to\\_end & compile & 902.09 & 1.12 \\\\\n",
      "conjoin\\_relevant\\_lits & nnf & 628.71 & 0.78 \\\\\n",
      "compile\\_decomposed & compile & 622.66 & 0.77 \\\\\n",
      "conjoin\\_nnfs\\_lits & nnf & 515.80 & 0.64 \\\\\n",
      "get\\_or\\_node & nnf & 491.04 & 0.61 \\\\\n",
      "literal2nnf\\_node & nnf & 386.80 & 0.48 \\\\\n",
      "move\\_watched\\_literal & sat & 361.77 & 0.45 \\\\\n",
      "leaf\\_dtree & dtree & 359.42 & 0.45 \\\\\n",
      "pop\\_var\\_relevance & cache & 350.65 & 0.44 \\\\\n",
      "clear\\_implied\\_literal\\_marks & sat & 349.10 & 0.43 \\\\\n",
      "weakly\\_eliminated & compile & 347.79 & 0.43 \\\\\n",
      "lookup\\_or\\_compile\\_dt & compile & 340.31 & 0.42 \\\\\n",
      "java\\_hash\\_code & cache & 337.81 & 0.42 \\\\\n",
      "and\\_hashcode & nnf & 212.54 & 0.26 \\\\\n",
      "compile\\_dt & compile & 185.69 & 0.23 \\\\\n",
      "active\\_separator\\_count & compile & 167.47 & 0.21 \\\\\n",
      "free\\_cache\\_manager & cache & 163.95 & 0.20 \\\\\n",
      "stamp\\_cache & cache & 148.78 & 0.19 \\\\\n",
      "set\\_and\\_node\\_children & nnf & 137.21 & 0.17 \\\\\n",
      "pop\\_vars\\_scope & cache & 130.89 & 0.16 \\\\\n",
      "allocate\\_nnf\\_node & nnf & 127.92 & 0.16 \\\\\n",
      "hash\\_code & cache & 126.11 & 0.16 \\\\\n",
      "undo\\_decide\\_literal & sat & 110.82 & 0.14 \\\\\n",
      "new\\_and\\_node & nnf & 106.02 & 0.13 \\\\\n",
      "push\\_vars\\_scope & cache & 101.94 & 0.13 \\\\\n",
      "decide\\_literal & sat & 96.31 & 0.12 \\\\\n",
      "unstamp\\_cache & cache & 90.95 & 0.11 \\\\\n",
      "mark\\_vars\\_at\\_level & sat & 82.64 & 0.10 \\\\\n",
      "in\\_dtree\\_scope & cache & 66.36 & 0.08 \\\\\n",
      "get\\_cnf\\_key & cache & 62.34 & 0.08 \\\\\n",
      "find\\_max & compile & 55.01 & 0.07 \\\\\n",
      "score1 & compile & 53.26 & 0.07 \\\\\n",
      "add\\_cache\\_entry & cache & 50.74 & 0.06 \\\\\n",
      "new\\_or\\_node & nnf & 49.97 & 0.06 \\\\\n",
      "sort\\_nnf\\_node & nnf & 42.50 & 0.05 \\\\\n",
      "select\\_phases & compile & 41.10 & 0.05 \\\\\n",
      "delete\\_cache\\_entry & cache & 38.67 & 0.05 \\\\\n",
      "complimentary\\_nnf\\_nodes & nnf & 35.22 & 0.04 \\\\\n",
      "push\\_var\\_relevance & cache & 33.43 & 0.04 \\\\\n",
      "disjoin\\_nnfs\\_i & nnf & 23.79 & 0.03 \\\\\n",
      "or\\_hashcode & nnf & 23.47 & 0.03 \\\\\n",
      "select\\_separator & compile & 23.29 & 0.03 \\\\\n",
      "clause2nnf\\_node & nnf & 22.00 & 0.03 \\\\\n",
      "disjoin\\_nnfs & nnf & 21.82 & 0.03 \\\\\n",
      "insert\\_cnf\\_cache & cache & 19.44 & 0.02 \\\\\n",
      "neg\\_literal\\_nnf\\_node & nnf & 14.61 & 0.02 \\\\\n",
      "drop\\_cache\\_entries & cache & 14.09 & 0.02 \\\\\n",
      "zchaff\\_conflict\\_clause & sat & 13.56 & 0.02 \\\\\n",
      "score2 & compile & 11.64 & 0.01 \\\\\n",
      "\\bottomrule\n",
      "\\end{tabular}\n",
      "\n"
     ]
    }
   ],
   "source": [
    "completed_function_table = completed_table_generator.generate_function_table_latex()\n",
    "print(completed_function_table)"
   ]
  },
  {
   "cell_type": "code",
   "execution_count": 26,
   "id": "04ee163c",
   "metadata": {},
   "outputs": [
    {
     "name": "stdout",
     "output_type": "stream",
     "text": [
      "\\begin{tabular}{lll}\n",
      "\\toprule\n",
      "Category & Total Time & Percent Time \\\\\n",
      "\\midrule\n",
      "sat & 33523.05 & 43.45 \\\\\n",
      "cache & 18174.70 & 23.56 \\\\\n",
      "nnf & 12454.76 & 16.14 \\\\\n",
      "compile & 8225.71 & 10.66 \\\\\n",
      "dtree & 4761.36 & 6.17 \\\\\n",
      "hdtree & 14.20 & 0.02 \\\\\n",
      "\\bottomrule\n",
      "\\end{tabular}\n",
      "\n"
     ]
    }
   ],
   "source": [
    "completed_category_table = completed_table_generator.generate_category_table_latex()\n",
    "print(completed_category_table)"
   ]
  },
  {
   "cell_type": "code",
   "execution_count": 27,
   "id": "c2b94ab6",
   "metadata": {},
   "outputs": [
    {
     "data": {
      "image/png": "[encoded data removed]",
      "text/plain": [
       "<Figure size 1000x1000 with 1 Axes>"
      ]
     },
     "metadata": {},
     "output_type": "display_data"
    }
   ],
   "source": [
    "from SatPlotter import SatPlotter\n",
    "\n",
    "sat_plotter = SatPlotter(cnf_stats_path=json_out)\n",
    "sat_plotter.plot_sat_time_percent()"
   ]
  }
 ],
 "metadata": {
  "kernelspec": {
   "display_name": "capstone",
   "language": "python",
   "name": "python3"
  },
  "language_info": {
   "codemirror_mode": {
    "name": "ipython",
    "version": 3
   },
   "file_extension": ".py",
   "mimetype": "text/x-python",
   "name": "python",
   "nbconvert_exporter": "python",
   "pygments_lexer": "ipython3",
   "version": "3.13.2"
  }
 },
 "nbformat": 4,
 "nbformat_minor": 5
}
