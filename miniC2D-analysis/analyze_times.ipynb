{
 "cells": [
  {
   "cell_type": "code",
   "execution_count": 6,
   "id": "38be476e",
   "metadata": {},
   "outputs": [
    {
     "name": "stdout",
     "output_type": "stream",
     "text": [
      "The autoreload extension is already loaded. To reload it, use:\n",
      "  %reload_ext autoreload\n"
     ]
    }
   ],
   "source": [
    "%load_ext autoreload\n",
    "%autoreload 2"
   ]
  },
  {
   "cell_type": "code",
   "execution_count": 7,
   "id": "40e6793a",
   "metadata": {},
   "outputs": [],
   "source": [
    "import sys\n",
    "sys.path.append(\"../perf-module\")"
   ]
  },
  {
   "cell_type": "code",
   "execution_count": 8,
   "id": "df445b38",
   "metadata": {},
   "outputs": [],
   "source": [
    "from PerfParser import PerfParser, StatMode, Compiler\n",
    "from Preprocessor import Preprocessor\n",
    "from FunctionMap import FunctionMap"
   ]
  },
  {
   "cell_type": "code",
   "execution_count": 9,
   "id": "2b87e03b",
   "metadata": {},
   "outputs": [],
   "source": [
    "perf_dir = \"perf-report/\"\n",
    "stdout_dir = \"stdout/valid/\"\n",
    "category_to_functions_path = \"tags/category_to_functions.json\""
   ]
  },
  {
   "cell_type": "code",
   "execution_count": 10,
   "id": "3172ecae",
   "metadata": {},
   "outputs": [],
   "source": [
    "preprocessor = Preprocessor(stdout_dir=\"stdout/\", perf_report_dir=perf_dir)\n",
    "preprocessor.filter_stdout()"
   ]
  },
  {
   "cell_type": "code",
   "execution_count": 11,
   "id": "ba048dcb",
   "metadata": {},
   "outputs": [
    {
     "name": "stderr",
     "output_type": "stream",
     "text": [
      "Initializing CNF Stats...:   0%|          | 0/366 [00:00<?, ?it/s]"
     ]
    },
    {
     "name": "stderr",
     "output_type": "stream",
     "text": [
      "Initializing CNF Stats...: 100%|██████████| 366/366 [00:23<00:00, 15.74it/s]"
     ]
    },
    {
     "name": "stdout",
     "output_type": "stream",
     "text": [
      "Aggregating Stats for all CNFs...\n",
      "Total time: 552506.895\n",
      "Aggregating Stats for timed out CNFs...\n",
      "Total time: 493200\n",
      "Aggregating Stats for completed CNFs...\n",
      "Total time: 59306.895\n",
      "Aggregating Stats by Category for all CNFs...\n",
      "Aggregating Stats by Category for timed out CNFs...\n",
      "Aggregating Stats by Category for completed CNFs...\n"
     ]
    },
    {
     "name": "stderr",
     "output_type": "stream",
     "text": [
      "\n"
     ]
    }
   ],
   "source": [
    "function_map = FunctionMap(category_to_function_path=category_to_functions_path)\n",
    "perf_parser = PerfParser(\n",
    "    compiler=Compiler.MINIC2D,\n",
    "    function_map=function_map,\n",
    "    perf_dir=perf_dir,\n",
    "    stdout_dir=stdout_dir,\n",
    "    normalize=False\n",
    ")"
   ]
  },
  {
   "cell_type": "code",
   "execution_count": 12,
   "id": "f023b2fc",
   "metadata": {},
   "outputs": [],
   "source": [
    "json_out = \"stats/cnf_stats.json\"\n",
    "agg_json_out = \"stats/unnorm_agg_cnf_stats.json\"\n",
    "cat_json_out = \"stats/unnorm_category_stats.json\"\n",
    "\n",
    "# timed out\n",
    "timed_out_json_out = \"stats/timed_out/cnf_stats.json\"\n",
    "timed_out_agg_json_out = \"stats/timed_out/unnorm_agg_stats.json\" \n",
    "timed_out_cat_json_out = \"stats/timed_out/unnorm_category_stats.json\"\n",
    "\n",
    "# complete\n",
    "completed_json_out = \"stats/completed/cnf_stats.json\"\n",
    "completed_agg_json_out = \"stats/completed/unnorm_agg_stats.json\"\n",
    "completed_cat_json_out = \"stats/completed/unnorm_category_stats.json\"\n",
    "\n",
    "perf_parser.to_json(json_out, StatMode.CNF_STATS)\n",
    "perf_parser.to_json(agg_json_out, StatMode.AGGREGATE_STATS)\n",
    "perf_parser.to_json(cat_json_out, StatMode.CATEGORY_STATS)\n",
    "\n",
    "# timed out\n",
    "perf_parser.to_json(timed_out_json_out, StatMode.TIMED_OUT_STATS)\n",
    "perf_parser.to_json(timed_out_agg_json_out, StatMode.AGGREGATE_TIMED_OUT_STATS)\n",
    "perf_parser.to_json(timed_out_cat_json_out, StatMode.CATEGORY_TIMED_OUT_STATS)\n",
    "\n",
    "# completed\n",
    "perf_parser.to_json(completed_json_out, StatMode.COMPLETED_STATS)\n",
    "perf_parser.to_json(completed_agg_json_out, StatMode.AGGREGATE_COMPLETED_STATS)\n",
    "perf_parser.to_json(completed_cat_json_out, StatMode.CATEGORY_COMPLETED_STATS)"
   ]
  },
  {
   "cell_type": "code",
   "execution_count": 13,
   "id": "a467b663",
   "metadata": {},
   "outputs": [],
   "source": [
    "from PerfTableGenerator import PerfTableGenerator\n",
    "\n",
    "table_generator = PerfTableGenerator(\n",
    "    agg_stats_path=agg_json_out,\n",
    "    category_stats_path=cat_json_out\n",
    ")"
   ]
  },
  {
   "cell_type": "code",
   "execution_count": 14,
   "id": "3a39cd07",
   "metadata": {},
   "outputs": [
    {
     "name": "stdout",
     "output_type": "stream",
     "text": [
      "\\begin{tabular}{llll}\n",
      "\\toprule\n",
      "Function Name & Category & Total Time & Percent Time \\\\\n",
      "\\midrule\n",
      "get\\_and\\_node & compile & 123620.80 & 22.37 \\\\\n",
      "remove\\_watched\\_clause & sat & 80225.03 & 14.52 \\\\\n",
      "set\\_literal & sat & 71908.39 & 13.01 \\\\\n",
      "construct\\_vtree\\_key & cache & 38293.90 & 6.93 \\\\\n",
      "sat\\_is\\_subsumed\\_clause & sat & 21002.36 & 3.80 \\\\\n",
      "sat\\_is\\_implied\\_literal & sat & 20447.43 & 3.70 \\\\\n",
      "move\\_watched\\_literal & sat & 18508.44 & 3.35 \\\\\n",
      "get\\_or\\_node & compile & 13573.54 & 2.46 \\\\\n",
      "lookup\\_cache & cache & 8239.96 & 1.49 \\\\\n",
      "erase\\_level & compile & 7526.11 & 1.36 \\\\\n",
      "unmark\\_vset & vtree & 7043.97 & 1.27 \\\\\n",
      "mark\\_vset & vtree & 6949.12 & 1.26 \\\\\n",
      "compile\\_dispatcher & compile & 6096.09 & 1.10 \\\\\n",
      "should\\_cache & cache & 5724.65 & 1.04 \\\\\n",
      "vtree\\_is\\_shannon\\_node & vtree & 5693.53 & 1.03 \\\\\n",
      "sat\\_var2pliteral & sat & 5662.81 & 1.02 \\\\\n",
      "nnf\\_node\\_cmp & compile & 5302.90 & 0.96 \\\\\n",
      "sat\\_is\\_instantiated\\_var & sat & 4673.85 & 0.85 \\\\\n",
      "compile\\_vtree\\_shannon & compile & 4321.42 & 0.78 \\\\\n",
      "literal2nnf\\_node & compile & 4132.50 & 0.75 \\\\\n",
      "set\\_vtree\\_hashcode & cache & 3176.53 & 0.57 \\\\\n",
      "var2nnf & compile & 2640.77 & 0.48 \\\\\n",
      "insert\\_cache & cache & 2369.89 & 0.43 \\\\\n",
      "sat\\_var2nliteral & sat & 1922.56 & 0.35 \\\\\n",
      "match\\_keys & cache & 1918.19 & 0.35 \\\\\n",
      "sat\\_unmark\\_var & sat & 1881.83 & 0.34 \\\\\n",
      "sat\\_mark\\_var & sat & 1874.02 & 0.34 \\\\\n",
      "conjoin\\_nnfs & compile & 1343.85 & 0.24 \\\\\n",
      "zchaff\\_conflict\\_clause & sat & 1339.74 & 0.24 \\\\\n",
      "compile\\_vtree\\_decomposed & compile & 1121.02 & 0.20 \\\\\n",
      "vtree\\_shannon\\_var & vtree & 1108.85 & 0.20 \\\\\n",
      "copy\\_key & cache & 1065.08 & 0.19 \\\\\n",
      "sat\\_literal2var & sat & 1001.13 & 0.18 \\\\\n",
      "sat\\_var2index & sat & 762.90 & 0.14 \\\\\n",
      "drop\\_vtree\\_cache\\_entries & cache & 717.25 & 0.13 \\\\\n",
      "vtree\\_is\\_leaf & vtree & 420.67 & 0.08 \\\\\n",
      "mark\\_vars\\_at\\_level & sat & 411.49 & 0.07 \\\\\n",
      "compile\\_with\\_literal & compile & 373.36 & 0.07 \\\\\n",
      "sat\\_is\\_irrelevant\\_var & sat & 342.53 & 0.06 \\\\\n",
      "sat\\_decide\\_literal & sat & 300.61 & 0.05 \\\\\n",
      "save\\_nnf\\_nodes & nnf & 296.09 & 0.05 \\\\\n",
      "sat\\_literal2index & sat & 274.03 & 0.05 \\\\\n",
      "sat\\_is\\_marked\\_var & sat & 269.69 & 0.05 \\\\\n",
      "new\\_and\\_node & compile & 263.56 & 0.05 \\\\\n",
      "nnf\\_conjoin & nnf & 216.70 & 0.04 \\\\\n",
      "sort\\_nnf\\_node & compile & 210.96 & 0.04 \\\\\n",
      "nnf\\_literal2node & nnf & 207.88 & 0.04 \\\\\n",
      "allocate\\_nnf\\_node & nnf & 201.17 & 0.04 \\\\\n",
      "compile\\_vtree\\_leaf & compile & 198.40 & 0.04 \\\\\n",
      "vset\\_union & vtree & 197.60 & 0.04 \\\\\n",
      "drop\\_cache\\_entry & cache & 184.65 & 0.03 \\\\\n",
      "count\\_nnf\\_nodes & compile & 175.63 & 0.03 \\\\\n",
      "free\\_vtree\\_cache & cache & 126.19 & 0.02 \\\\\n",
      "clist\\_size & cache & 119.32 & 0.02 \\\\\n",
      "cset\\_subset & vtree & 89.55 & 0.02 \\\\\n",
      "disjoin\\_nnfs\\_i & compile & 60.44 & 0.01 \\\\\n",
      "sat\\_undo\\_decide\\_literal & sat & 49.92 & 0.01 \\\\\n",
      "\\bottomrule\n",
      "\\end{tabular}\n",
      "\n"
     ]
    }
   ],
   "source": [
    "function_table = table_generator.generate_function_table_latex()\n",
    "print(function_table)"
   ]
  },
  {
   "cell_type": "code",
   "execution_count": 15,
   "id": "264e900f",
   "metadata": {},
   "outputs": [
    {
     "name": "stdout",
     "output_type": "stream",
     "text": [
      "\\begin{tabular}{lll}\n",
      "\\toprule\n",
      "Category & Total Time & Percent Time \\\\\n",
      "\\midrule\n",
      "sat & 232924.77 & 47.69 \\\\\n",
      "compile & 171046.98 & 35.02 \\\\\n",
      "cache & 61942.67 & 12.68 \\\\\n",
      "vtree & 21528.42 & 4.41 \\\\\n",
      "nnf & 924.42 & 0.19 \\\\\n",
      "\\bottomrule\n",
      "\\end{tabular}\n",
      "\n"
     ]
    }
   ],
   "source": [
    "category_table = table_generator.generate_category_table_latex()\n",
    "print(category_table)"
   ]
  },
  {
   "cell_type": "code",
   "execution_count": 16,
   "id": "656d1002",
   "metadata": {},
   "outputs": [],
   "source": [
    "timed_out_table_generator = PerfTableGenerator(\n",
    "    agg_stats_path=timed_out_agg_json_out,\n",
    "    category_stats_path=timed_out_cat_json_out\n",
    ")"
   ]
  },
  {
   "cell_type": "code",
   "execution_count": 17,
   "id": "1989427a",
   "metadata": {},
   "outputs": [
    {
     "name": "stdout",
     "output_type": "stream",
     "text": [
      "\\begin{tabular}{llll}\n",
      "\\toprule\n",
      "Function Name & Category & Total Time & Percent Time \\\\\n",
      "\\midrule\n",
      "get\\_and\\_node & compile & 113929.56 & 23.10 \\\\\n",
      "remove\\_watched\\_clause & sat & 72654.48 & 14.73 \\\\\n",
      "set\\_literal & sat & 64347.84 & 13.05 \\\\\n",
      "construct\\_vtree\\_key & cache & 33907.68 & 6.88 \\\\\n",
      "sat\\_is\\_subsumed\\_clause & sat & 19200.96 & 3.89 \\\\\n",
      "sat\\_is\\_implied\\_literal & sat & 18424.44 & 3.74 \\\\\n",
      "move\\_watched\\_literal & sat & 16642.44 & 3.37 \\\\\n",
      "get\\_or\\_node & compile & 11331.72 & 2.30 \\\\\n",
      "lookup\\_cache & cache & 7110.36 & 1.44 \\\\\n",
      "unmark\\_vset & vtree & 7022.16 & 1.42 \\\\\n",
      "mark\\_vset & vtree & 6927.48 & 1.40 \\\\\n",
      "erase\\_level & compile & 6215.04 & 1.26 \\\\\n",
      "compile\\_dispatcher & compile & 5550.12 & 1.13 \\\\\n",
      "should\\_cache & cache & 5184.00 & 1.05 \\\\\n",
      "vtree\\_is\\_shannon\\_node & vtree & 5099.40 & 1.03 \\\\\n",
      "sat\\_var2pliteral & sat & 4977.72 & 1.01 \\\\\n",
      "nnf\\_node\\_cmp & compile & 4645.08 & 0.94 \\\\\n",
      "sat\\_is\\_instantiated\\_var & sat & 4180.68 & 0.85 \\\\\n",
      "compile\\_vtree\\_shannon & compile & 3939.84 & 0.80 \\\\\n",
      "literal2nnf\\_node & compile & 3686.76 & 0.75 \\\\\n",
      "set\\_vtree\\_hashcode & cache & 2847.60 & 0.58 \\\\\n",
      "var2nnf & compile & 2415.60 & 0.49 \\\\\n",
      "insert\\_cache & cache & 2143.80 & 0.43 \\\\\n",
      "sat\\_unmark\\_var & sat & 1860.12 & 0.38 \\\\\n",
      "sat\\_mark\\_var & sat & 1852.20 & 0.38 \\\\\n",
      "sat\\_var2nliteral & sat & 1693.44 & 0.34 \\\\\n",
      "match\\_keys & cache & 1663.20 & 0.34 \\\\\n",
      "conjoin\\_nnfs & compile & 1205.28 & 0.24 \\\\\n",
      "zchaff\\_conflict\\_clause & sat & 1034.28 & 0.21 \\\\\n",
      "compile\\_vtree\\_decomposed & compile & 1014.12 & 0.21 \\\\\n",
      "vtree\\_shannon\\_var & vtree & 999.36 & 0.20 \\\\\n",
      "copy\\_key & cache & 974.52 & 0.20 \\\\\n",
      "sat\\_literal2var & sat & 889.56 & 0.18 \\\\\n",
      "sat\\_var2index & sat & 691.20 & 0.14 \\\\\n",
      "drop\\_vtree\\_cache\\_entries & cache & 481.68 & 0.10 \\\\\n",
      "vtree\\_is\\_leaf & vtree & 373.68 & 0.08 \\\\\n",
      "mark\\_vars\\_at\\_level & sat & 362.16 & 0.07 \\\\\n",
      "compile\\_with\\_literal & compile & 309.96 & 0.06 \\\\\n",
      "sat\\_is\\_irrelevant\\_var & sat & 298.44 & 0.06 \\\\\n",
      "sat\\_is\\_marked\\_var & sat & 249.84 & 0.05 \\\\\n",
      "sat\\_literal2index & sat & 246.60 & 0.05 \\\\\n",
      "sat\\_decide\\_literal & sat & 246.24 & 0.05 \\\\\n",
      "new\\_and\\_node & compile & 213.12 & 0.04 \\\\\n",
      "nnf\\_conjoin & nnf & 195.48 & 0.04 \\\\\n",
      "sort\\_nnf\\_node & compile & 190.44 & 0.04 \\\\\n",
      "nnf\\_literal2node & nnf & 188.28 & 0.04 \\\\\n",
      "compile\\_vtree\\_leaf & compile & 179.28 & 0.04 \\\\\n",
      "drop\\_cache\\_entry & cache & 172.80 & 0.04 \\\\\n",
      "vset\\_union & vtree & 167.04 & 0.03 \\\\\n",
      "allocate\\_nnf\\_node & nnf & 163.44 & 0.03 \\\\\n",
      "cset\\_subset & vtree & 88.20 & 0.02 \\\\\n",
      "disjoin\\_nnfs\\_i & compile & 49.68 & 0.01 \\\\\n",
      "\\bottomrule\n",
      "\\end{tabular}\n",
      "\n"
     ]
    }
   ],
   "source": [
    "timed_out_function_table = timed_out_table_generator.generate_function_table_latex()\n",
    "print(timed_out_function_table)"
   ]
  },
  {
   "cell_type": "code",
   "execution_count": 18,
   "id": "c82290b2",
   "metadata": {},
   "outputs": [
    {
     "name": "stdout",
     "output_type": "stream",
     "text": [
      "\\begin{tabular}{lll}\n",
      "\\toprule\n",
      "Category & Total Time & Percent Time \\\\\n",
      "\\midrule\n",
      "sat & 209952.72 & 47.65 \\\\\n",
      "compile & 154941.48 & 35.16 \\\\\n",
      "cache & 54489.24 & 12.37 \\\\\n",
      "vtree & 20694.60 & 4.70 \\\\\n",
      "nnf & 549.00 & 0.12 \\\\\n",
      "\\bottomrule\n",
      "\\end{tabular}\n",
      "\n"
     ]
    }
   ],
   "source": [
    "timed_out_category_table = timed_out_table_generator.generate_category_table_latex()\n",
    "print(timed_out_category_table)"
   ]
  },
  {
   "cell_type": "code",
   "execution_count": 19,
   "id": "434057be",
   "metadata": {},
   "outputs": [],
   "source": [
    "completed_table_generator = PerfTableGenerator(\n",
    "    agg_stats_path=completed_agg_json_out,\n",
    "    category_stats_path=completed_cat_json_out\n",
    ")"
   ]
  },
  {
   "cell_type": "code",
   "execution_count": 20,
   "id": "c1aeca3f",
   "metadata": {},
   "outputs": [
    {
     "name": "stdout",
     "output_type": "stream",
     "text": [
      "\\begin{tabular}{llll}\n",
      "\\toprule\n",
      "Function Name & Category & Total Time & Percent Time \\\\\n",
      "\\midrule\n",
      "get\\_and\\_node & compile & 9691.24 & 16.34 \\\\\n",
      "remove\\_watched\\_clause & sat & 7570.55 & 12.77 \\\\\n",
      "set\\_literal & sat & 7560.55 & 12.75 \\\\\n",
      "construct\\_vtree\\_key & cache & 4386.22 & 7.40 \\\\\n",
      "get\\_or\\_node & compile & 2241.82 & 3.78 \\\\\n",
      "sat\\_is\\_implied\\_literal & sat & 2022.99 & 3.41 \\\\\n",
      "move\\_watched\\_literal & sat & 1866.00 & 3.15 \\\\\n",
      "sat\\_is\\_subsumed\\_clause & sat & 1801.40 & 3.04 \\\\\n",
      "erase\\_level & compile & 1311.07 & 2.21 \\\\\n",
      "lookup\\_cache & cache & 1129.60 & 1.90 \\\\\n",
      "sat\\_var2pliteral & sat & 685.09 & 1.16 \\\\\n",
      "nnf\\_node\\_cmp & compile & 657.82 & 1.11 \\\\\n",
      "vtree\\_is\\_shannon\\_node & vtree & 594.13 & 1.00 \\\\\n",
      "compile\\_dispatcher & compile & 545.97 & 0.92 \\\\\n",
      "should\\_cache & cache & 540.65 & 0.91 \\\\\n",
      "sat\\_is\\_instantiated\\_var & sat & 493.17 & 0.83 \\\\\n",
      "literal2nnf\\_node & compile & 445.74 & 0.75 \\\\\n",
      "compile\\_vtree\\_shannon & compile & 381.58 & 0.64 \\\\\n",
      "set\\_vtree\\_hashcode & cache & 328.93 & 0.55 \\\\\n",
      "zchaff\\_conflict\\_clause & sat & 305.46 & 0.52 \\\\\n",
      "save\\_nnf\\_nodes & nnf & 296.09 & 0.50 \\\\\n",
      "match\\_keys & cache & 254.99 & 0.43 \\\\\n",
      "drop\\_vtree\\_cache\\_entries & cache & 235.57 & 0.40 \\\\\n",
      "sat\\_var2nliteral & sat & 229.12 & 0.39 \\\\\n",
      "insert\\_cache & cache & 226.09 & 0.38 \\\\\n",
      "var2nnf & compile & 225.17 & 0.38 \\\\\n",
      "count\\_nnf\\_nodes & compile & 175.63 & 0.30 \\\\\n",
      "conjoin\\_nnfs & compile & 138.57 & 0.23 \\\\\n",
      "free\\_vtree\\_cache & cache & 126.19 & 0.21 \\\\\n",
      "clist\\_size & cache & 119.32 & 0.20 \\\\\n",
      "sat\\_literal2var & sat & 111.57 & 0.19 \\\\\n",
      "vtree\\_shannon\\_var & vtree & 109.49 & 0.18 \\\\\n",
      "compile\\_vtree\\_decomposed & compile & 106.90 & 0.18 \\\\\n",
      "copy\\_key & cache & 90.56 & 0.15 \\\\\n",
      "sat\\_var2index & sat & 71.70 & 0.12 \\\\\n",
      "compile\\_with\\_literal & compile & 63.40 & 0.11 \\\\\n",
      "sat\\_decide\\_literal & sat & 54.37 & 0.09 \\\\\n",
      "new\\_and\\_node & compile & 50.44 & 0.09 \\\\\n",
      "mark\\_vars\\_at\\_level & sat & 49.33 & 0.08 \\\\\n",
      "vtree\\_is\\_leaf & vtree & 46.99 & 0.08 \\\\\n",
      "sat\\_is\\_irrelevant\\_var & sat & 44.09 & 0.07 \\\\\n",
      "allocate\\_nnf\\_node & nnf & 37.73 & 0.06 \\\\\n",
      "vset\\_union & vtree & 30.56 & 0.05 \\\\\n",
      "sat\\_literal2index & sat & 27.43 & 0.05 \\\\\n",
      "sat\\_mark\\_var & sat & 21.82 & 0.04 \\\\\n",
      "unmark\\_vset & vtree & 21.81 & 0.04 \\\\\n",
      "sat\\_unmark\\_var & sat & 21.71 & 0.04 \\\\\n",
      "mark\\_vset & vtree & 21.64 & 0.04 \\\\\n",
      "nnf\\_conjoin & nnf & 21.22 & 0.04 \\\\\n",
      "sort\\_nnf\\_node & compile & 20.52 & 0.03 \\\\\n",
      "sat\\_is\\_marked\\_var & sat & 19.85 & 0.03 \\\\\n",
      "nnf\\_literal2node & nnf & 19.60 & 0.03 \\\\\n",
      "compile\\_vtree\\_leaf & compile & 19.12 & 0.03 \\\\\n",
      "drop\\_cache\\_entry & cache & 11.85 & 0.02 \\\\\n",
      "disjoin\\_nnfs\\_i & compile & 10.76 & 0.02 \\\\\n",
      "new\\_or\\_node & compile & 9.79 & 0.02 \\\\\n",
      "sat\\_undo\\_decide\\_literal & sat & 7.08 & 0.01 \\\\\n",
      "disjoin\\_nnfs & compile & 5.89 & 0.01 \\\\\n",
      "\\bottomrule\n",
      "\\end{tabular}\n",
      "\n"
     ]
    }
   ],
   "source": [
    "completed_function_table = completed_table_generator.generate_function_table_latex()\n",
    "print(completed_function_table)"
   ]
  },
  {
   "cell_type": "code",
   "execution_count": 21,
   "id": "04ee163c",
   "metadata": {},
   "outputs": [
    {
     "name": "stdout",
     "output_type": "stream",
     "text": [
      "\\begin{tabular}{lll}\n",
      "\\toprule\n",
      "Category & Total Time & Percent Time \\\\\n",
      "\\midrule\n",
      "sat & 22972.05 & 48.12 \\\\\n",
      "compile & 16105.50 & 33.74 \\\\\n",
      "cache & 7453.43 & 15.61 \\\\\n",
      "vtree & 833.82 & 1.75 \\\\\n",
      "nnf & 375.42 & 0.79 \\\\\n",
      "\\bottomrule\n",
      "\\end{tabular}\n",
      "\n"
     ]
    }
   ],
   "source": [
    "completed_category_table = completed_table_generator.generate_category_table_latex()\n",
    "print(completed_category_table)"
   ]
  },
  {
   "cell_type": "code",
   "execution_count": 22,
   "id": "c2b94ab6",
   "metadata": {},
   "outputs": [
    {
     "data": {
      "image/png": "[encoded data removed]",
      "text/plain": [
       "<Figure size 1000x1000 with 1 Axes>"
      ]
     },
     "metadata": {},
     "output_type": "display_data"
    }
   ],
   "source": [
    "from SatPlotter import SatPlotter\n",
    "\n",
    "sat_plotter = SatPlotter(cnf_stats_path=json_out)\n",
    "sat_plotter.plot_sat_time_percent()"
   ]
  }
 ],
 "metadata": {
  "kernelspec": {
   "display_name": "capstone",
   "language": "python",
   "name": "python3"
  },
  "language_info": {
   "codemirror_mode": {
    "name": "ipython",
    "version": 3
   },
   "file_extension": ".py",
   "mimetype": "text/x-python",
   "name": "python",
   "nbconvert_exporter": "python",
   "pygments_lexer": "ipython3",
   "version": "3.13.2"
  }
 },
 "nbformat": 4,
 "nbformat_minor": 5
}
